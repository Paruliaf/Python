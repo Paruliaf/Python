{
 "cells": [
  {
   "cell_type": "markdown",
   "id": "70f380ae-804b-44b2-ab5f-a95845e97797",
   "metadata": {},
   "source": [
    "# Data Science Tools and Ecosystem"
   ]
  },
  {
   "cell_type": "markdown",
   "id": "0b7d0f6b-4289-4304-8934-122814bd597b",
   "metadata": {},
   "source": [
    "In this notebook, Data Science Tools and Ecosystem are summarized."
   ]
  },
  {
   "cell_type": "markdown",
   "id": "c706c90e-3776-440f-ad39-ba2ec7b26e8c",
   "metadata": {},
   "source": [
    "Some of the popular languages that Data Scientists use are:\n",
    "\n",
    "1. Python\n",
    "2. R\n",
    "3. SQL\n",
    "4. Julia\n",
    "5. Java\n",
    "\n",
    "These languages provide powerful tools for data manipulation, analysis, and modeling, making them widely used in the data science community.\n"
   ]
  },
  {
   "cell_type": "markdown",
   "id": "1f036e0c-c720-44a9-9df1-04d86f5a12e3",
   "metadata": {},
   "source": [
    "Some of the commonly used libraries used by Data Scientists include:\n",
    "\n",
    "1. **Pandas** - for data manipulation and analysis\n",
    "2. **NumPy** - for numerical computing\n",
    "3. **Matplotlib** - for data visualization\n",
    "4. **Scikit-Learn** - for machine learning\n",
    "5. **TensorFlow** - for deep learning and neural networks\n",
    "\n",
    "These libraries provide essential functionalities that support data processing, analysis, and model development.\n"
   ]
  },
  {
   "cell_type": "markdown",
   "id": "fc797d31-e064-4292-8a1b-b2ef202ea688",
   "metadata": {},
   "source": [
    "| Data Science Tools           |\n",
    "|------------------------------|\n",
    "| Jupyter Notebook             |\n",
    "| RStudio                      |\n",
    "| Apache Zeppelin              |\n",
    "\n",
    "These open-source development environments provide flexible platforms for data exploration, analysis, and visualization.\n"
   ]
  },
  {
   "cell_type": "markdown",
   "id": "31baff15-f47d-4c1f-a449-a7f139f1619e",
   "metadata": {},
   "source": [
    "### Below are a few examples of evaluating arithmetic expressions in Python.\n",
    "\n",
    "In this section, we'll demonstrate basic arithmetic operations, such as addition, subtraction, multiplication, and division, using Python. These operations form the foundation of data manipulation and analysis.\n"
   ]
  },
  {
   "cell_type": "code",
   "execution_count": 2,
   "id": "df47b226-a35c-420a-82e9-6815765311ae",
   "metadata": {},
   "outputs": [
    {
     "data": {
      "text/plain": [
       "17"
      ]
     },
     "execution_count": 2,
     "metadata": {},
     "output_type": "execute_result"
    }
   ],
   "source": [
    "# This is a simple arithmetic expression to multiply then add integers\n",
    "(3 * 4) + 5\n"
   ]
  },
  {
   "cell_type": "code",
   "execution_count": 3,
   "id": "991ffac7-216e-4a41-99fc-d749c9182d17",
   "metadata": {},
   "outputs": [
    {
     "data": {
      "text/plain": [
       "3.3333333333333335"
      ]
     },
     "execution_count": 3,
     "metadata": {},
     "output_type": "execute_result"
    }
   ],
   "source": [
    "# This will convert 200 minutes to hours by dividing by 60\n",
    "200 / 60\n"
   ]
  },
  {
   "cell_type": "markdown",
   "id": "d375b65b-e6e9-48b4-86ef-f38a14cada32",
   "metadata": {},
   "source": [
    "**Objectives:**\n",
    "\n",
    "- List popular languages for Data Science\n",
    "- Identify commonly used libraries in Data Science\n",
    "- Describe development environment tools in the Data Science ecosystem\n",
    "- Demonstrate simple arithmetic operations in Python\n",
    "- Convert time units (e.g., minutes to hours) in Python\n",
    "\n",
    "These objectives highlight the foundational knowledge and practical skills covered in this notebook.\n"
   ]
  },
  {
   "cell_type": "markdown",
   "id": "0fc73901-a44c-48bd-b316-d726710d9d94",
   "metadata": {},
   "source": [
    "## Author\n",
    "\n",
    "Parul Joshi\n"
   ]
  },
  {
   "cell_type": "code",
   "execution_count": null,
   "id": "303337e7-1b32-429d-b493-61a2a5202ca3",
   "metadata": {},
   "outputs": [],
   "source": []
  }
 ],
 "metadata": {
  "kernelspec": {
   "display_name": "Python 3 (ipykernel)",
   "language": "python",
   "name": "python3"
  },
  "language_info": {
   "codemirror_mode": {
    "name": "ipython",
    "version": 3
   },
   "file_extension": ".py",
   "mimetype": "text/x-python",
   "name": "python",
   "nbconvert_exporter": "python",
   "pygments_lexer": "ipython3",
   "version": "3.11.9"
  }
 },
 "nbformat": 4,
 "nbformat_minor": 5
}
